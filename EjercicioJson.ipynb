{
 "cells": [
  {
   "cell_type": "code",
   "execution_count": null,
   "id": "c856b83f",
   "metadata": {},
   "outputs": [],
   "source": []
  },
  {
   "cell_type": "markdown",
   "id": "cbe313ff",
   "metadata": {},
   "source": [
    "### Ejercicio 1\n",
    "Cuando te conectas a una ruta ... es habitual escribir r\"ruta\". ¿qué significa esa r?"
   ]
  },
  {
   "cell_type": "markdown",
   "id": "b9ee4a15",
   "metadata": {},
   "source": [
    "Los lenguajes de programación que tienen sus raíces en UNIX y el lenguaje de programación C, como Python, consideran la barra invertida (\\) como el carácter de escape. Por ejemplo, \\n significa un retorno de carro (salto de línea).\n",
    "Dado que las rutas pueden contener barras invertidas, debe evitar que las barras invertidas se utilicen como carácter de escape. Una forma es convertir las rutas en cadenas de caracteres sin formato de Python mediante la directiva r, como se muestra a continuación. Esto da la orden a Python de ignorar las barras invertidas.\n",
    "\n",
    "#### url = r\"E:\\data\\telluride\\newdata.gdb\\slopes\"\n",
    "\n",
    "r significa \"raw\" (puro/tosco/sin pulir) y hará que las barras invertidas en la cadena se interpreten como barras invertidas reales en lugar de caracteres especiales.\n"
   ]
  },
  {
   "cell_type": "markdown",
   "id": "051b2c5f",
   "metadata": {},
   "source": [
    "### Ejercicio2\n",
    "Conéctate a un json y muestra algunos datos en python para probar que funciona"
   ]
  },
  {
   "cell_type": "code",
   "execution_count": 1,
   "id": "00227564",
   "metadata": {},
   "outputs": [
    {
     "name": "stdout",
     "output_type": "stream",
     "text": [
      "   Duration  Pulse  Maxpulse  Calories\n",
      "0        60    110       130       409\n",
      "1        60    117       145       479\n",
      "2        60    103       135       340\n",
      "3        45    109       175       282\n",
      "4        45    117       148       406\n",
      "5        60    102       127       300\n"
     ]
    },
    {
     "data": {
      "text/plain": [
       "<function matplotlib.pyplot.show(close=None, block=None)>"
      ]
     },
     "execution_count": 1,
     "metadata": {},
     "output_type": "execute_result"
    },
    {
     "data": {
      "image/png": "[encoded data removed]",
      "text/plain": [
       "<Figure size 432x288 with 1 Axes>"
      ]
     },
     "metadata": {
      "needs_background": "light"
     },
     "output_type": "display_data"
    }
   ],
   "source": [
    "import pandas as pd\n",
    "import matplotlib.pyplot as plt\n",
    "\n",
    "data = \"https://raw.githubusercontent.com/VictorIvanPizarro/JsonYMostrarDatos/main/data.json\"\n",
    "\n",
    "df = pd.read_json(data)\n",
    "\n",
    "print(df) \n",
    "\n",
    "df.Pulse.plot.hist()\n",
    "plt.show"
   ]
  },
  {
   "cell_type": "markdown",
   "id": "0db29494",
   "metadata": {},
   "source": [
    "### Ejercicio 3\n",
    "Representa algunos datos en un gráfico circular"
   ]
  },
  {
   "cell_type": "code",
   "execution_count": 17,
   "id": "ead95932",
   "metadata": {},
   "outputs": [
    {
     "data": {
      "text/plain": [
       "Text(0, 0.5, '')"
      ]
     },
     "execution_count": 17,
     "metadata": {},
     "output_type": "execute_result"
    },
    {
     "data": {
      "image/png": "[encoded data removed]",
      "text/plain": [
       "<Figure size 432x288 with 1 Axes>"
      ]
     },
     "metadata": {},
     "output_type": "display_data"
    }
   ],
   "source": [
    "import pandas as pd\n",
    "import matplotlib.pyplot as plt\n",
    "\n",
    "\n",
    "\n",
    "data = \"https://raw.githubusercontent.com/VictorIvanPizarro/JsonYMostrarDatos/main/data.json\"\n",
    "\n",
    "df = pd.read_json(data)\n",
    "\n",
    "df.Calories.groupby(df.Duration).sum().plot(kind='pie', cmap='Paired')\n",
    "plt.axis('equal')\n",
    "plt.ylabel('')"
   ]
  },
  {
   "cell_type": "markdown",
   "id": "0ac17246",
   "metadata": {},
   "source": [
    "### Ejercicio 4\n",
    "Representa algunos datos en un gráfico de barras"
   ]
  },
  {
   "cell_type": "code",
   "execution_count": 16,
   "id": "190ac3a6",
   "metadata": {},
   "outputs": [
    {
     "name": "stdout",
     "output_type": "stream",
     "text": [
      "   Duration  Pulse  Maxpulse  Calories\n",
      "0        60    110       130       409\n",
      "1        60    117       145       479\n",
      "2        60    103       135       340\n",
      "3        45    109       175       282\n",
      "4        45    117       148       406\n",
      "5        60    102       127       300\n"
     ]
    },
    {
     "data": {
      "text/plain": [
       "<function matplotlib.pyplot.show(close=None, block=None)>"
      ]
     },
     "execution_count": 16,
     "metadata": {},
     "output_type": "execute_result"
    },
    {
     "data": {
      "image/png": "[encoded data removed]",
      "text/plain": [
       "<Figure size 432x288 with 1 Axes>"
      ]
     },
     "metadata": {
      "needs_background": "light"
     },
     "output_type": "display_data"
    }
   ],
   "source": [
    "import pandas as pd\n",
    "import matplotlib.pyplot as plt\n",
    "\n",
    "data = \"https://raw.githubusercontent.com/VictorIvanPizarro/JsonYMostrarDatos/main/data.json\"\n",
    "\n",
    "df = pd.read_json(data)\n",
    "\n",
    "print(df) \n",
    "\n",
    "df.Pulse.plot.hist()\n",
    "plt.show"
   ]
  },
  {
   "cell_type": "code",
   "execution_count": null,
   "id": "eb820579",
   "metadata": {},
   "outputs": [],
   "source": []
  }
 ],
 "metadata": {
  "kernelspec": {
   "display_name": "Python 3 (ipykernel)",
   "language": "python",
   "name": "python3"
  },
  "language_info": {
   "codemirror_mode": {
    "name": "ipython",
    "version": 3
   },
   "file_extension": ".py",
   "mimetype": "text/x-python",
   "name": "python",
   "nbconvert_exporter": "python",
   "pygments_lexer": "ipython3",
   "version": "3.9.7"
  }
 },
 "nbformat": 4,
 "nbformat_minor": 5
}
